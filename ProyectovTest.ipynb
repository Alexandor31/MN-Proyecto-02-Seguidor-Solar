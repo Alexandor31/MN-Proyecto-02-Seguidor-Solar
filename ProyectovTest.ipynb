{
 "cells": [
  {
   "cell_type": "code",
   "execution_count": 1,
   "id": "a8bc302e-017c-458c-a3c5-5027105233c6",
   "metadata": {},
   "outputs": [],
   "source": [
    "from pysolar.solar import get_altitude, get_azimuth\n",
    "import matplotlib.image as mpimg\n",
    "from datetime import datetime, timedelta\n",
    "from pytz import timezone\n",
    "import numpy as np\n",
    "from BackEndSeguidorSolar import src\n",
    "\n",
    "def calculate_solar_positions(\n",
    "    start_date: datetime,\n",
    "    start_hour: int = 10,\n",
    "    end_hour: int = 17,\n",
    "    latitude: float = -0.2105367,\n",
    "    longitude: float = -78.491614\n",
    "):\n",
    "    \"\"\"Calcula posiciones solares y ángulos para una fecha específica y rango de horas.\n",
    "\n",
    "    ## Parameters\n",
    "    - start_date: Fecha y hora de inicio para la simulación (se usa solo la fecha, hora se define con start_hour).\n",
    "    - start_hour: Hora de inicio del cálculo.\n",
    "    - end_hour: Hora de fin del cálculo.\n",
    "    - latitude: Latitud para la posición geográfica.\n",
    "    - longitude: Longitud para la posición geográfica.\n",
    "\n",
    "    ## Return\n",
    "    - times: Lista de tiempos de simulación.\n",
    "    - azimuths: Lista de ángulos azimutales.\n",
    "    - elevations: Lista de ángulos de elevación.\n",
    "    - beta: Lista de ángulos de rollo calculados.\n",
    "    - phi: Lista de ángulos de inclinación calculados.\n",
    "    \"\"\"\n",
    "    times = []\n",
    "    azimuths = []\n",
    "    elevations = []\n",
    "    beta = []\n",
    "    phi = []\n",
    "\n",
    "    time_interval = timedelta(hours=0.33)\n",
    "\n",
    "    # Crear el rango de tiempos basado en la hora de inicio y fin\n",
    "    start_time = start_date.replace(hour=start_hour, minute=0, second=0, microsecond=0)\n",
    "    end_time = start_date.replace(hour=end_hour, minute=0, second=0, microsecond=0)\n",
    "\n",
    "    current_time = start_time\n",
    "    while current_time <= end_time:\n",
    "        az = get_azimuth(latitude, longitude, current_time)\n",
    "        el = get_altitude(latitude, longitude, current_time)\n",
    "\n",
    "        # Convertir a radianes para los cálculos\n",
    "        az_rad = (az * np.pi) / 180\n",
    "        el_rad = (el * np.pi) / 180\n",
    "\n",
    "        val = np.cos(el_rad) * np.sin(az_rad)\n",
    "        beta_rad = np.arcsin(val)\n",
    "        beta_deg = (beta_rad * 180) / np.pi\n",
    "\n",
    "        val_fi1 = -(np.cos(el_rad) * np.cos(az_rad)) / np.cos(beta_rad)\n",
    "        x_rad = np.arcsin(val_fi1)\n",
    "        x_deg = (x_rad * 180) / np.pi\n",
    "\n",
    "        val_fi2 = np.sin(el_rad) / np.cos(beta_rad)\n",
    "        y_rad = np.arccos(val_fi2)\n",
    "        y_deg = (y_rad * 180) / np.pi\n",
    "\n",
    "        times.append(current_time)\n",
    "        azimuths.append(az)\n",
    "        elevations.append(el)\n",
    "        beta.append(beta_deg)\n",
    "        phi.append(x_deg)  # Asumiendo que phi corresponde a x_deg; ajusta si es necesario\n",
    "\n",
    "        current_time += time_interval\n",
    "\n",
    "    return times, azimuths, elevations, beta, phi"
   ]
  },
  {
   "cell_type": "code",
   "execution_count": 2,
   "id": "6e885617",
   "metadata": {},
   "outputs": [],
   "source": [
    "import matplotlib.pyplot as plt\n",
    "import matplotlib.animation as animation\n",
    "from matplotlib.backends.backend_tkagg import FigureCanvasTkAgg\n",
    "import tkinter as tk\n",
    "import numpy as np\n",
    "\n",
    "# Extraer los datos de tiempo, azimuth y elevación\n",
    "#times = [pos[0] for pos in solar_positions]\n",
    "#azimuths = [pos[1] for pos in solar_positions]\n",
    "#elevations = [pos[2] for pos in solar_positions]\n",
    "#beta = [sol[0] for sol in solucion]\n",
    "#phi = [sol[1] for sol in solucion]\n",
    "\n",
    "fecha = input(\"Ingrese una fecha en formato año-mes-día (ejemplo: 2024-08-11): \")\n",
    "anio, mes, dia = fecha.split('-')\n",
    "rango = input(\"Ingrese el rango de la simulación (ejemplo: 10-17): \")\n",
    "inicio, fin = rango.split('-')\n",
    "\n",
    "start_date = datetime(int(anio), int(mes), int(dia), tzinfo=timezone(\"America/Guayaquil\"))\n",
    "times, azimuths, elevations, beta, phi = calculate_solar_positions(start_date, start_hour=int(inicio), end_hour=int(fin))"
   ]
  },
  {
   "cell_type": "code",
   "execution_count": 3,
   "id": "d5d655b8",
   "metadata": {},
   "outputs": [
    {
     "name": "stdout",
     "output_type": "stream",
     "text": [
      "Solar Position Data:\n",
      "\n",
      "Times: 08:00, 08:19, 08:39, 08:59, 09:19, 09:39, 09:58, 10:18, 10:38, 10:58, 11:18, 11:37, 11:57, 12:17, 12:37, 12:57, 13:16, 13:36, 13:56, 14:16, 14:36, 14:55, 15:15, 15:35, 15:55, 16:15, 16:34, 16:54\n",
      "\n",
      "Azimuths: 114.18°, 115.32°, 116.75°, 118.54°, 120.76°, 123.54°, 127.04°, 131.46°, 137.09°, 144.23°, 153.17°, 163.98°, 176.22°, 188.83°, 200.60°, 210.68°, 218.88°, 225.38°, 230.49°, 234.51°, 237.70°, 240.24°, 242.28°, 243.92°, 245.23°, 246.27°, 247.09°, 247.70°\n",
      "\n",
      "Elevations: 27.06°, 31.55°, 35.99°, 40.37°, 44.67°, 48.86°, 52.90°, 56.74°, 60.29°, 63.43°, 66.01°, 67.83°, 68.69°, 68.47°, 67.21°, 65.06°, 62.24°, 58.91°, 55.24°, 51.31°, 47.20°, 42.96°, 38.63°, 34.22°, 29.75°, 25.24°, 20.71°, 16.15°\n",
      "\n",
      "Beta (Ángulo de Inclinación): 54.33°, 50.38°, 46.26°, 42.01°, 37.67°, 33.25°, 28.78°, 24.27°, 19.72°, 15.16°, 10.57°, 5.98°, 1.37°, -3.23°, -7.83°, -12.42°, -17.00°, -21.56°, -26.10°, -30.60°, -35.05°, -39.44°, -43.76°, -47.96°, -52.03°, -55.90°, -59.49°, -62.71°\n",
      "\n",
      "Phi (Ángulo de Orientación): 38.73°, 34.87°, 31.79°, 29.33°, 27.36°, 25.77°, 24.49°, 23.47°, 22.68°, 22.08°, 21.65°, 21.39°, 21.27°, 21.29°, 21.47°, 21.79°, 22.28°, 22.95°, 23.83°, 24.94°, 26.32°, 28.05°, 30.20°, 32.88°, 36.24°, 40.48°, 45.84°, 52.64°\n"
     ]
    }
   ],
   "source": [
    "# Supongamos que ya has calculado los valores de times, azimuths, elevations, beta, y phi\n",
    "# Aquí está el código para imprimirlos en un formato legible.\n",
    "\n",
    "print(\"Solar Position Data:\\n\")\n",
    "\n",
    "print(\"Times: \", end=\"\")\n",
    "print(\", \".join([f\"{time.strftime('%H:%M')}\" for time in times]))\n",
    "\n",
    "print(\"\\nAzimuths: \", end=\"\")\n",
    "print(\", \".join([f\"{azimuth:.2f}°\" for azimuth in azimuths]))\n",
    "\n",
    "print(\"\\nElevations: \", end=\"\")\n",
    "print(\", \".join([f\"{elevation:.2f}°\" for elevation in elevations]))\n",
    "\n",
    "print(\"\\nBeta (Ángulo de Inclinación): \", end=\"\")\n",
    "print(\", \".join([f\"{b:.2f}°\" for b in beta]))\n",
    "\n",
    "print(\"\\nPhi (Ángulo de Orientación): \", end=\"\")\n",
    "print(\", \".join([f\"{p:.2f}°\" for p in phi]))"
   ]
  },
  {
   "cell_type": "code",
   "execution_count": 4,
   "id": "945bbec6",
   "metadata": {},
   "outputs": [],
   "source": [
    "x_labels = []\n",
    "for time in times:\n",
    "        x_labels.append(f\"{time.hour}:{time.minute}\")"
   ]
  },
  {
   "cell_type": "markdown",
   "id": "b6702a8d",
   "metadata": {},
   "source": [
    "## Simulación con los puntos"
   ]
  },
  {
   "cell_type": "code",
   "execution_count": 5,
   "id": "404cf478",
   "metadata": {},
   "outputs": [],
   "source": [
    "# Convertir los tiempos a números (por simplicidad en la gráfica 3D)\n",
    "time_numbers = np.arange(len(times))\n",
    "\n",
    "# Configurar la ventana de Tkinter\n",
    "root = tk.Tk()\n",
    "root.title(\"Simulación de Ángulos Solares\")\n",
    "\n",
    "# Crear un marco para la gráfica 3D\n",
    "frame_3d = tk.Frame(root)\n",
    "frame_3d.pack(side=tk.RIGHT, fill=tk.BOTH, expand=True)\n",
    "\n",
    "# Crear la figura y el eje 3D\n",
    "fig3 = plt.Figure(figsize=(13, 7), dpi=100)\n",
    "ax3 = fig3.add_subplot(111, projection='3d')\n",
    "\n",
    "# Configurar los ejes\n",
    "ax3.set_xlabel('Time')\n",
    "ax3.set_ylabel('Azimuth')\n",
    "ax3.set_zlabel('Elevation')\n",
    "ax3.set_title('Trayectoria del sol')\n",
    "\n",
    "# Configurar límites fijos para evitar redimensionado\n",
    "ax3.set_xlim(0, len(times)-1)\n",
    "ax3.set_ylim(min(azimuths), max(azimuths))\n",
    "ax3.set_zlim(min(elevations), max(elevations))\n",
    "\n",
    "# Crear una función para generar la esfera que representa el sol\n",
    "def create_sun(ax, center, radius=2, color='yellow'):\n",
    "    # Crear una esfera 3D\n",
    "    u = np.linspace(0, 2 * np.pi, 30)\n",
    "    v = np.linspace(0, np.pi, 15)\n",
    "    x = radius * np.outer(np.cos(u), np.sin(v)) + center[0]\n",
    "    y = radius * np.outer(np.sin(u), np.sin(v)) + center[1]\n",
    "    z = radius * np.outer(np.ones(np.size(u)), np.cos(v)) + center[2]\n",
    "\n",
    "    # Añadir la esfera al eje 3D\n",
    "    ax.plot_surface(x, y, z, color=color, shade=True)\n",
    "\n",
    "# Función de inicialización para la animación 3D\n",
    "def init_3d():\n",
    "    return []\n",
    "\n",
    "# Función de actualización para la animación 3D\n",
    "def update_3d(frame):\n",
    "    ax3.cla()  # Limpiar el eje antes de actualizar\n",
    "\n",
    "    # Re-dibujar la trayectoria hasta el punto actual\n",
    "    ax3.plot(time_numbers[:frame+1], azimuths[:frame+1], elevations[:frame+1], 'yo-', markersize=5)\n",
    "\n",
    "    # Crear la esfera 3D para representar el sol en la posición actual\n",
    "    sun_position = [time_numbers[frame], azimuths[frame], elevations[frame]]\n",
    "    create_sun(ax3, sun_position, radius=0.5, color='yellow')\n",
    "\n",
    "    # Reestablecer límites para evitar redimensionado\n",
    "    ax3.set_xlim(0, len(times)-1)\n",
    "    ax3.set_ylim(min(azimuths), max(azimuths))\n",
    "    ax3.set_zlim(min(elevations), max(elevations))\n",
    "    ax3.set_xlabel('Time')\n",
    "    ax3.set_ylabel('Azimuth')\n",
    "    ax3.set_zlabel('Elevation')\n",
    "    ax3.set_title('Trayectoria del sol')\n",
    "\n",
    "    return []\n",
    "\n",
    "# Crear el lienzo para la figura 3D\n",
    "canvas3 = FigureCanvasTkAgg(fig3, master=frame_3d)\n",
    "canvas3.draw()\n",
    "canvas3.get_tk_widget().pack(fill=tk.BOTH, expand=True)\n",
    "\n",
    "interval_time_ms = 500\n",
    "ani3 = animation.FuncAnimation(fig3, update_3d, frames=len(times), init_func=init_3d, interval=interval_time_ms, blit=True)\n",
    "\n",
    "# Iniciar la interfaz gráfica de Tkinter\n",
    "root.mainloop()"
   ]
  },
  {
   "cell_type": "markdown",
   "id": "c14d21bf",
   "metadata": {},
   "source": [
    "## Simulación Solo el SOL"
   ]
  },
  {
   "cell_type": "code",
   "execution_count": 6,
   "id": "09ce4cbc",
   "metadata": {},
   "outputs": [],
   "source": [
    "src.graphTrayectoriaSol3D(times, azimuths, elevations, beta, phi)"
   ]
  },
  {
   "cell_type": "markdown",
   "id": "5c8cae17",
   "metadata": {},
   "source": [
    "## Simulación SOL angúlo Polar"
   ]
  },
  {
   "cell_type": "code",
   "execution_count": 7,
   "id": "844045e9",
   "metadata": {},
   "outputs": [],
   "source": [
    "src.graphTrayectoriaSolPolar2D(times, azimuths, elevations, beta, phi)"
   ]
  },
  {
   "cell_type": "markdown",
   "id": "150b66ff",
   "metadata": {},
   "source": [
    "## Panel 3D"
   ]
  },
  {
   "cell_type": "code",
   "execution_count": 8,
   "id": "78446f70",
   "metadata": {},
   "outputs": [],
   "source": [
    "src.graphPanelTrayectory(times, azimuths, elevations, beta, phi)"
   ]
  }
 ],
 "metadata": {
  "kernelspec": {
   "display_name": "Python 3 (ipykernel)",
   "language": "python",
   "name": "python3"
  },
  "language_info": {
   "codemirror_mode": {
    "name": "ipython",
    "version": 3
   },
   "file_extension": ".py",
   "mimetype": "text/x-python",
   "name": "python",
   "nbconvert_exporter": "python",
   "pygments_lexer": "ipython3",
   "version": "3.11.7"
  }
 },
 "nbformat": 4,
 "nbformat_minor": 5
}
