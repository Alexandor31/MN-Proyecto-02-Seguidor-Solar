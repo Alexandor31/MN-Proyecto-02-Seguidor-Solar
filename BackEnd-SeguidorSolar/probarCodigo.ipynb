{
 "cells": [
  {
   "cell_type": "markdown",
   "id": "02608746-4e46-4612-84f0-e40601c7ddb6",
   "metadata": {},
   "source": [
    "Aquí prueben las funciones que crean, que valgan y funcionen, luego de que valgan borren todo menos esta línea y dejen sus códigos en el .py adecuado para cada uno."
   ]
  },
  {
   "cell_type": "code",
   "execution_count": 1,
   "id": "c06e35fa-31f7-482f-9fe3-cc0e2fdc54ab",
   "metadata": {
    "tags": []
   },
   "outputs": [
    {
     "ename": "ModuleNotFoundError",
     "evalue": "No module named 'pysolar'",
     "output_type": "error",
     "traceback": [
      "\u001b[1;31m---------------------------------------------------------------------------\u001b[0m",
      "\u001b[1;31mModuleNotFoundError\u001b[0m                       Traceback (most recent call last)",
      "Cell \u001b[1;32mIn[1], line 2\u001b[0m\n\u001b[0;32m      1\u001b[0m get_ipython()\u001b[38;5;241m.\u001b[39mrun_line_magic(\u001b[38;5;124m'\u001b[39m\u001b[38;5;124mload_ext\u001b[39m\u001b[38;5;124m'\u001b[39m, \u001b[38;5;124m'\u001b[39m\u001b[38;5;124mautoreload\u001b[39m\u001b[38;5;124m'\u001b[39m)\n\u001b[1;32m----> 2\u001b[0m \u001b[38;5;28;01mfrom\u001b[39;00m \u001b[38;5;21;01msrc\u001b[39;00m \u001b[38;5;28;01mimport\u001b[39;00m getSolarPosition\n",
      "File \u001b[1;32mc:\\Users\\Enrique_P\\Documents\\proyects\\MN-Proyecto-02-Seguidor-Solar\\BackEnd-SeguidorSolar\\src\\__init__.py:1\u001b[0m\n\u001b[1;32m----> 1\u001b[0m \u001b[38;5;28;01mfrom\u001b[39;00m \u001b[38;5;21;01m.\u001b[39;00m\u001b[38;5;21;01mgetSolarPosition\u001b[39;00m \u001b[38;5;28;01mimport\u001b[39;00m getSolarPosition\n",
      "File \u001b[1;32mc:\\Users\\Enrique_P\\Documents\\proyects\\MN-Proyecto-02-Seguidor-Solar\\BackEnd-SeguidorSolar\\src\\getSolarPosition.py:1\u001b[0m\n\u001b[1;32m----> 1\u001b[0m \u001b[38;5;28;01mfrom\u001b[39;00m \u001b[38;5;21;01mpysolar\u001b[39;00m\u001b[38;5;21;01m.\u001b[39;00m\u001b[38;5;21;01msolar\u001b[39;00m \u001b[38;5;28;01mimport\u001b[39;00m get_altitude, get_azimuth\n\u001b[0;32m      2\u001b[0m \u001b[38;5;28;01mfrom\u001b[39;00m \u001b[38;5;21;01mdatetime\u001b[39;00m \u001b[38;5;28;01mimport\u001b[39;00m datetime, timedelta\n\u001b[0;32m      3\u001b[0m \u001b[38;5;28;01mfrom\u001b[39;00m \u001b[38;5;21;01mpytz\u001b[39;00m \u001b[38;5;28;01mimport\u001b[39;00m timezone\n",
      "\u001b[1;31mModuleNotFoundError\u001b[0m: No module named 'pysolar'"
     ]
    }
   ],
   "source": [
    "%load_ext autoreload\n",
    "from src import getSolarPosition"
   ]
  },
  {
   "cell_type": "code",
   "execution_count": null,
   "id": "99bca677-1699-485c-a577-b2df24ecc9ff",
   "metadata": {
    "tags": []
   },
   "outputs": [],
   "source": [
    "%autoreload 2"
   ]
  },
  {
   "cell_type": "code",
   "execution_count": null,
   "id": "e4dd30c8-4d91-460d-8c91-269e45aed48b",
   "metadata": {},
   "outputs": [],
   "source": []
  }
 ],
 "metadata": {
  "kernelspec": {
   "display_name": "Python 3 (ipykernel)",
   "language": "python",
   "name": "python3"
  },
  "language_info": {
   "codemirror_mode": {
    "name": "ipython",
    "version": 3
   },
   "file_extension": ".py",
   "mimetype": "text/x-python",
   "name": "python",
   "nbconvert_exporter": "python",
   "pygments_lexer": "ipython3",
   "version": "3.12.3"
  }
 },
 "nbformat": 4,
 "nbformat_minor": 5
}
