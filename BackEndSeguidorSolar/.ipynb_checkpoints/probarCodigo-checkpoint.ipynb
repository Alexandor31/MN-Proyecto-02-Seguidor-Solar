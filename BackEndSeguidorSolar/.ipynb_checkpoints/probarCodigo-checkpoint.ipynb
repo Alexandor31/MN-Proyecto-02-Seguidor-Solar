{
 "cells": [
  {
   "cell_type": "markdown",
   "id": "02608746-4e46-4612-84f0-e40601c7ddb6",
   "metadata": {},
   "source": [
    "Aquí prueben las funciones que crean, que valgan y funcionen, luego de que valgan borren todo menos esta línea y dejen sus códigos en el .py adecuado para cada uno."
   ]
  },
  {
   "cell_type": "code",
   "execution_count": 8,
   "id": "c06e35fa-31f7-482f-9fe3-cc0e2fdc54ab",
   "metadata": {
    "tags": []
   },
   "outputs": [
    {
     "name": "stdout",
     "output_type": "stream",
     "text": [
      "The autoreload extension is already loaded. To reload it, use:\n",
      "  %reload_ext autoreload\n"
     ]
    }
   ],
   "source": [
    "%load_ext autoreload\n",
    "from src import getSolarPosition"
   ]
  },
  {
   "cell_type": "code",
   "execution_count": 11,
   "id": "99bca677-1699-485c-a577-b2df24ecc9ff",
   "metadata": {
    "tags": []
   },
   "outputs": [],
   "source": [
    "%autoreload 2"
   ]
  },
  {
   "cell_type": "code",
   "execution_count": null,
   "id": "e4dd30c8-4d91-460d-8c91-269e45aed48b",
   "metadata": {},
   "outputs": [],
   "source": []
  }
 ],
 "metadata": {
  "kernelspec": {
   "display_name": "Python 3 (ipykernel)",
   "language": "python",
   "name": "python3"
  },
  "language_info": {
   "codemirror_mode": {
    "name": "ipython",
    "version": 3
   },
   "file_extension": ".py",
   "mimetype": "text/x-python",
   "name": "python",
   "nbconvert_exporter": "python",
   "pygments_lexer": "ipython3",
   "version": "3.11.7"
  }
 },
 "nbformat": 4,
 "nbformat_minor": 5
}
